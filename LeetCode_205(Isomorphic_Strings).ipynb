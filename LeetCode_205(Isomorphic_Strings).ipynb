{
  "nbformat": 4,
  "nbformat_minor": 0,
  "metadata": {
    "colab": {
      "provenance": [],
      "authorship_tag": "ABX9TyNgAFT5ASIKrhFgA+mwCzrq",
      "include_colab_link": true
    },
    "kernelspec": {
      "name": "python3",
      "display_name": "Python 3"
    },
    "language_info": {
      "name": "python"
    }
  },
  "cells": [
    {
      "cell_type": "markdown",
      "metadata": {
        "id": "view-in-github",
        "colab_type": "text"
      },
      "source": [
        "<a href=\"https://colab.research.google.com/github/samina-if/LeetCode/blob/main/LeetCode_205(Isomorphic_Strings).ipynb\" target=\"_parent\"><img src=\"https://colab.research.google.com/assets/colab-badge.svg\" alt=\"Open In Colab\"/></a>"
      ]
    },
    {
      "cell_type": "code",
      "execution_count": 1,
      "metadata": {
        "id": "m2Qj1WT6UNev"
      },
      "outputs": [],
      "source": [
        "def isIsomorphic(self, s: str, t: str) -> bool:\n",
        "        if len(s) != len(t):\n",
        "            return False\n",
        "        dic1={}\n",
        "        dic2={}\n",
        "        zipped=zip(s,t)\n",
        "        for i, j in zipped:\n",
        "            if i in dic1 and j!=dic1[i]:\n",
        "                return False\n",
        "            if j in dic2 and i != dic2[j]:\n",
        "                return False\n",
        "            else:\n",
        "                dic1[i]=j\n",
        "                dic2[j]=i\n",
        "        return True\n"
      ]
    }
  ]
}