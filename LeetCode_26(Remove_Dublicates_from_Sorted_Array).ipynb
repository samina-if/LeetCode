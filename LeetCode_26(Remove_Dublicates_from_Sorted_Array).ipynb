{
  "nbformat": 4,
  "nbformat_minor": 0,
  "metadata": {
    "colab": {
      "provenance": [],
      "authorship_tag": "ABX9TyMxCaCtz09DkCmNubZ+h0Us"
    },
    "kernelspec": {
      "name": "python3",
      "display_name": "Python 3"
    },
    "language_info": {
      "name": "python"
    }
  },
  "cells": [
    {
      "cell_type": "code",
      "execution_count": 3,
      "metadata": {
        "id": "90575lvIWMZU",
        "colab": {
          "base_uri": "https://localhost:8080/"
        },
        "outputId": "93e7458b-4d1b-4048-a096-651736679e68"
      },
      "outputs": [
        {
          "output_type": "stream",
          "name": "stdout",
          "text": [
            "5\n"
          ]
        }
      ],
      "source": [
        "def removeDuplicates(nums):\n",
        "  if not nums:\n",
        "        return 0\n",
        "  l=0\n",
        "  for r in range(1,len(nums)):\n",
        "        if nums[l]!=nums[r]:\n",
        "            l+=1\n",
        "            nums[l]=nums[r]\n",
        "\n",
        "  return l+1\n",
        "\n",
        "nums = [0,0,1,1,1,2,2,3,3,4]\n",
        "print(removeDuplicates(nums))\n"
      ]
    }
  ]
}