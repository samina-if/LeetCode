{
  "nbformat": 4,
  "nbformat_minor": 0,
  "metadata": {
    "colab": {
      "provenance": [],
      "authorship_tag": "ABX9TyOSkAbTJ0u+W7ZVGE6TK9uO",
      "include_colab_link": true
    },
    "kernelspec": {
      "name": "python3",
      "display_name": "Python 3"
    },
    "language_info": {
      "name": "python"
    }
  },
  "cells": [
    {
      "cell_type": "markdown",
      "metadata": {
        "id": "view-in-github",
        "colab_type": "text"
      },
      "source": [
        "<a href=\"https://colab.research.google.com/github/samina-if/LeetCode/blob/main/LeetCode_189(Rotate_Array).ipynb\" target=\"_parent\"><img src=\"https://colab.research.google.com/assets/colab-badge.svg\" alt=\"Open In Colab\"/></a>"
      ]
    },
    {
      "cell_type": "code",
      "execution_count": 1,
      "metadata": {
        "id": "m2Qj1WT6UNev"
      },
      "outputs": [],
      "source": [
        "def numUniqueEmails(self, emails):\n",
        "        unique=set()\n",
        "        for i in emails:\n",
        "             local,domain=i.split(\"@\")\n",
        "             local=local.split(\"+\")[0]\n",
        "             local=local.replace(\".\",\"\")\n",
        "             unique.add((local,domain))\n",
        "        return len(unique)\n"
      ]
    }
  ]
}