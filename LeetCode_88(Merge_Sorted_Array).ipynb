{
  "nbformat": 4,
  "nbformat_minor": 0,
  "metadata": {
    "colab": {
      "provenance": [],
      "authorship_tag": "ABX9TyMt+UsvOedZcJZM2VBI1Okr",
      "include_colab_link": true
    },
    "kernelspec": {
      "name": "python3",
      "display_name": "Python 3"
    },
    "language_info": {
      "name": "python"
    }
  },
  "cells": [
    {
      "cell_type": "markdown",
      "metadata": {
        "id": "view-in-github",
        "colab_type": "text"
      },
      "source": [
        "<a href=\"https://colab.research.google.com/github/samina-if/LeetCode/blob/main/LeetCode_88(Merge_Sorted_Array).ipynb\" target=\"_parent\"><img src=\"https://colab.research.google.com/assets/colab-badge.svg\" alt=\"Open In Colab\"/></a>"
      ]
    },
    {
      "cell_type": "code",
      "execution_count": 1,
      "metadata": {
        "id": "m2Qj1WT6UNev"
      },
      "outputs": [],
      "source": [
        "def merge(nums1, m, nums2, n):\n",
        "        num1=nums1[:m]\n",
        "        i,j=0,0\n",
        "        while(i<m and j<n):\n",
        "            if num1[i]<=nums2[j]:\n",
        "                nums1[i+j]=num1[i]\n",
        "                i+=1\n",
        "            else:\n",
        "                nums1[i+j]=nums2[j]\n",
        "                j+=1\n",
        "\n",
        "        if i==m:\n",
        "           nums1[(i+j):]=nums2[j:]\n",
        "        if j==n:\n",
        "            nums1[(i+j):]=num1[i:]\n"
      ]
    }
  ]
}