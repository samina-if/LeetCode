{
  "nbformat": 4,
  "nbformat_minor": 0,
  "metadata": {
    "colab": {
      "provenance": [],
      "authorship_tag": "ABX9TyPExrtwBEEk6fhiny17e1dW"
    },
    "kernelspec": {
      "name": "python3",
      "display_name": "Python 3"
    },
    "language_info": {
      "name": "python"
    }
  },
  "cells": [
    {
      "cell_type": "code",
      "execution_count": 4,
      "metadata": {
        "id": "pekcvnEPbDyH"
      },
      "outputs": [],
      "source": [
        "def removeElement( nums, val):\n",
        "\n",
        "        k=0\n",
        "        for i in range(len(nums)):\n",
        "            if(nums[i]!=val):\n",
        "                 nums[k]=nums[i]\n",
        "                 k+=1\n",
        "        return k\n"
      ]
    }
  ]
}