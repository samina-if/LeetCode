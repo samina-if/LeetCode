{
  "nbformat": 4,
  "nbformat_minor": 0,
  "metadata": {
    "colab": {
      "provenance": [],
      "authorship_tag": "ABX9TyPzoTy0bNIpbJC1bWSMnYVJ",
      "include_colab_link": true
    },
    "kernelspec": {
      "name": "python3",
      "display_name": "Python 3"
    },
    "language_info": {
      "name": "python"
    }
  },
  "cells": [
    {
      "cell_type": "markdown",
      "metadata": {
        "id": "view-in-github",
        "colab_type": "text"
      },
      "source": [
        "<a href=\"https://colab.research.google.com/github/samina-if/LeetCode/blob/main/LeetCode_125(Valid_palindrome).ipynb\" target=\"_parent\"><img src=\"https://colab.research.google.com/assets/colab-badge.svg\" alt=\"Open In Colab\"/></a>"
      ]
    },
    {
      "cell_type": "code",
      "execution_count": 5,
      "metadata": {
        "id": "m2Qj1WT6UNev"
      },
      "outputs": [],
      "source": [
        "def isPalindrome(self, s: str) -> bool:\n",
        "        left,right=0,len(s)-1\n",
        "        while left<right:\n",
        "            while left<right and not self.alphabet(s[right]):\n",
        "                right-=1\n",
        "            while left<right and not self.alphabet(s[left]):\n",
        "                left+=1\n",
        "            if s[left].lower()!=s[right].lower():\n",
        "                return False\n",
        "            left+=1\n",
        "            right-=1\n",
        "        return True\n",
        "def alphabet(char):\n",
        "        return (\"a\"<=char<=\"z\" or \"A\"<=char<=\"Z\" or \"0\"<=char<=\"9\")\n",
        ""
      ]
    }
  ]
}