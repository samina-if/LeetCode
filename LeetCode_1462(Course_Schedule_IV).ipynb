{
  "nbformat": 4,
  "nbformat_minor": 0,
  "metadata": {
    "colab": {
      "provenance": [],
      "authorship_tag": "ABX9TyOeSJMVSrr7FFkalKNQIIdb",
      "include_colab_link": true
    },
    "kernelspec": {
      "name": "python3",
      "display_name": "Python 3"
    },
    "language_info": {
      "name": "python"
    }
  },
  "cells": [
    {
      "cell_type": "markdown",
      "metadata": {
        "id": "view-in-github",
        "colab_type": "text"
      },
      "source": [
        "<a href=\"https://colab.research.google.com/github/samina-if/LeetCode/blob/main/LeetCode_1462(Course_Schedule_IV).ipynb\" target=\"_parent\"><img src=\"https://colab.research.google.com/assets/colab-badge.svg\" alt=\"Open In Colab\"/></a>"
      ]
    },
    {
      "cell_type": "code",
      "execution_count": null,
      "metadata": {
        "id": "Qh4BfUwYivt6"
      },
      "outputs": [],
      "source": [
        "class Solution:\n",
        "  def checkIfPrerequisite(self, numCourses: int, prerequisites: List[List[int]], queries: List[List[int]]) -> List[bool]:\n",
        "\n",
        "        # Initialize a matrix to store reachability\n",
        "        reachable = [[False] * numCourses for _ in range(numCourses)]\n",
        "\n",
        "        # Set direct prerequisites\n",
        "        for u, v in prerequisites:\n",
        "            reachable[u][v] = True\n",
        "\n",
        "        for k in range(numCourses):\n",
        "            for i in range(numCourses):\n",
        "                for j in range(numCourses):\n",
        "                    reachable[i][j] = reachable[i][j] or (reachable[i][k] and reachable[k][j])\n",
        "\n",
        "        # Answer the queries based on the reachability matrix\n",
        "        result = []\n",
        "        for u, v in queries:\n",
        "            result.append(reachable[u][v])\n",
        "\n",
        "        return result\n"
      ]
    }
  ]
}