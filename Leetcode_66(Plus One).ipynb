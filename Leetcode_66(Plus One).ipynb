{
  "nbformat": 4,
  "nbformat_minor": 0,
  "metadata": {
    "colab": {
      "provenance": [],
      "authorship_tag": "ABX9TyN8RS2CJj01Jf81r7PNbdIC"
    },
    "kernelspec": {
      "name": "python3",
      "display_name": "Python 3"
    },
    "language_info": {
      "name": "python"
    }
  },
  "cells": [
    {
      "cell_type": "code",
      "execution_count": 7,
      "metadata": {
        "id": "90575lvIWMZU"
      },
      "outputs": [],
      "source": [
        "class Solution:\n",
        "    def plusOne(self, digits):\n",
        "      for i in range(len(digits)-1, -1, -1):\n",
        "         if digits[i]<9:\n",
        "          digits[i]+=1\n",
        "          break\n",
        "          digits[i]=0\n",
        "         else:\n",
        "          digits=[1] + digits\n",
        "      return digits"
      ]
    }
  ]
}
