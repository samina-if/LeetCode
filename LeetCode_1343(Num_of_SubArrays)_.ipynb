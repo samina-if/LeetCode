{
  "nbformat": 4,
  "nbformat_minor": 0,
  "metadata": {
    "colab": {
      "provenance": [],
      "authorship_tag": "ABX9TyM8/Bq8Jo4Y/90buiBt1RP6"
    },
    "kernelspec": {
      "name": "python3",
      "display_name": "Python 3"
    },
    "language_info": {
      "name": "python"
    }
  },
  "cells": [
    {
      "cell_type": "code",
      "execution_count": 8,
      "metadata": {
        "id": "90575lvIWMZU",
        "colab": {
          "base_uri": "https://localhost:8080/"
        },
        "outputId": "ed558a5e-7bc6-4a42-dac3-006a8c825599"
      },
      "outputs": [
        {
          "output_type": "stream",
          "name": "stdout",
          "text": [
            "3\n"
          ]
        }
      ],
      "source": [
        "class Solution:\n",
        "    def numOfSubarrays(arr, k, threshold):\n",
        "         res=0\n",
        "         currsum=sum(arr[:k-1])\n",
        "         for l in range(len(arr)-k+1):\n",
        "             currsum+=arr[l+k-1]\n",
        "             if(currsum/k)>=threshold:\n",
        "                 res+=1\n",
        "             currsum-=arr[l]\n",
        "         return res\n",
        "    print(numOfSubarrays([2,2,2,2,5,5,5,8],3,4))\n",
        ""
      ]
    }
  ]
}